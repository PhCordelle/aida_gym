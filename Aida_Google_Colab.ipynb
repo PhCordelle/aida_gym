{
 "cells": [
  {
   "cell_type": "markdown",
   "metadata": {
    "colab_type": "text",
    "id": "IkJG2WR2ystw"
   },
   "source": [
    "# Training AIDA in Google Colab tutorial"
   ]
  },
  {
   "cell_type": "markdown",
   "metadata": {
    "colab_type": "text",
    "id": "aKLWYjEj6YQu"
   },
   "source": [
    "In order to train an agent on GPU, go to Runtime->Change runtime type->Hardware accelerator->GPU"
   ]
  },
  {
   "cell_type": "markdown",
   "metadata": {
    "colab_type": "text",
    "id": "i4cD51d-0Qzn"
   },
   "source": [
    "## Import files"
   ]
  },
  {
   "cell_type": "markdown",
   "metadata": {
    "colab_type": "text",
    "id": "RtsVH1v10doT"
   },
   "source": [
    "Let open the access to **Google Drive** and install/import all the necessary libraries:"
   ]
  },
  {
   "cell_type": "code",
   "execution_count": 1,
   "metadata": {
    "colab": {
     "base_uri": "https://localhost:8080/",
     "height": 122
    },
    "colab_type": "code",
    "executionInfo": {
     "elapsed": 19045,
     "status": "ok",
     "timestamp": 1555581820326,
     "user": {
      "displayName": "Никита Караев",
      "photoUrl": "https://lh6.googleusercontent.com/-0miK0wLOYsg/AAAAAAAAAAI/AAAAAAAAAPI/AONwKyC9sJc/s64/photo.jpg",
      "userId": "10603059828424385099"
     },
     "user_tz": -120
    },
    "id": "hBJSZaReyISG",
    "outputId": "13f75f40-dc16-4fff-defd-b1417cbd3b3e"
   },
   "outputs": [
    {
     "name": "stdout",
     "output_type": "stream",
     "text": [
      "Go to this URL in a browser: https://accounts.google.com/o/oauth2/auth?client_id=947318989803-6bn6qk8qdgf4n4g3pfee6491hc0brc4i.apps.googleusercontent.com&redirect_uri=urn%3Aietf%3Awg%3Aoauth%3A2.0%3Aoob&scope=email%20https%3A%2F%2Fwww.googleapis.com%2Fauth%2Fdocs.test%20https%3A%2F%2Fwww.googleapis.com%2Fauth%2Fdrive%20https%3A%2F%2Fwww.googleapis.com%2Fauth%2Fdrive.photos.readonly%20https%3A%2F%2Fwww.googleapis.com%2Fauth%2Fpeopleapi.readonly&response_type=code\n",
      "\n",
      "Enter your authorization code:\n",
      "··········\n",
      "Mounted at /content/gdrive\n"
     ]
    }
   ],
   "source": [
    "from google.colab import drive\n",
    "drive.mount('/content/gdrive', force_remount=True)\n",
    "root_dir = \"/content/gdrive/My Drive/\""
   ]
  },
  {
   "cell_type": "code",
   "execution_count": 2,
   "metadata": {
    "colab": {
     "base_uri": "https://localhost:8080/",
     "height": 173
    },
    "colab_type": "code",
    "executionInfo": {
     "elapsed": 11161,
     "status": "ok",
     "timestamp": 1555581826854,
     "user": {
      "displayName": "Никита Караев",
      "photoUrl": "https://lh6.googleusercontent.com/-0miK0wLOYsg/AAAAAAAAAAI/AAAAAAAAAPI/AONwKyC9sJc/s64/photo.jpg",
      "userId": "10603059828424385099"
     },
     "user_tz": -120
    },
    "id": "M1e5h8-hXO2s",
    "outputId": "25d8c413-7c66-4f32-8617-049e2044877b"
   },
   "outputs": [
    {
     "name": "stdout",
     "output_type": "stream",
     "text": [
      "Collecting path.py\n",
      "  Downloading https://files.pythonhosted.org/packages/40/62/1464f08672cac67e529967ba83b46f38da5d0ca48ac1ce2a9e7d7680ea10/path.py-12.0.1-py3-none-any.whl\n",
      "Collecting importlib-metadata>=0.5 (from path.py)\n",
      "  Downloading https://files.pythonhosted.org/packages/58/64/1ce5a6427b9152ef71c14db9e54e74f6f11e8411995bda41979abab817b1/importlib_metadata-0.9-py2.py3-none-any.whl\n",
      "Collecting zipp>=0.3.2 (from importlib-metadata>=0.5->path.py)\n",
      "  Downloading https://files.pythonhosted.org/packages/00/42/10a1f8d29eaf9c7f2b555a5d1d602b9261f2a0cbec08f8f23d9056f5915d/zipp-0.3.3-py2.py3-none-any.whl\n",
      "Installing collected packages: zipp, importlib-metadata, path.py\n",
      "Successfully installed importlib-metadata-0.9 path.py-12.0.1 zipp-0.3.3\n"
     ]
    }
   ],
   "source": [
    "!pip install path.py;\n",
    "from path import Path\n",
    "import math\n",
    "import torch\n",
    "import sys\n",
    "import os\n",
    "import argparse\n",
    "import time\n",
    "import gym\n",
    "import numpy as np\n",
    "import itertools\n",
    "import torch.nn as nn\n",
    "from torch.distributions import Normal\n",
    "import torch.nn.functional as F\n",
    "from torch.optim import Adam\n",
    "import random\n",
    "from collections import namedtuple\n",
    "import matplotlib.pyplot as plt\n"
   ]
  },
  {
   "cell_type": "code",
   "execution_count": 3,
   "metadata": {
    "colab": {
     "base_uri": "https://localhost:8080/",
     "height": 170
    },
    "colab_type": "code",
    "executionInfo": {
     "elapsed": 48673,
     "status": "ok",
     "timestamp": 1555582093039,
     "user": {
      "displayName": "Никита Караев",
      "photoUrl": "https://lh6.googleusercontent.com/-0miK0wLOYsg/AAAAAAAAAAI/AAAAAAAAAPI/AONwKyC9sJc/s64/photo.jpg",
      "userId": "10603059828424385099"
     },
     "user_tz": -120
    },
    "id": "c1uKAV300qD8",
    "outputId": "473cab19-0c66-4e24-d59f-a70e6318e500"
   },
   "outputs": [
    {
     "name": "stdout",
     "output_type": "stream",
     "text": [
      "Collecting pybullet\n",
      "\u001b[?25l  Downloading https://files.pythonhosted.org/packages/40/a4/42d502e01f64140666144cbdca9cd909cd03f0e62b4c0d5f76a591e2a1e8/pybullet-2.4.8.tar.gz (39.9MB)\n",
      "\u001b[K    100% |████████████████████████████████| 39.9MB 1.2MB/s \n",
      "\u001b[?25hBuilding wheels for collected packages: pybullet\n",
      "  Building wheel for pybullet (setup.py) ... \u001b[?25ldone\n",
      "\u001b[?25h  Stored in directory: /root/.cache/pip/wheels/85/3d/c6/80e5ee17f58abd5e4d7b8ef9e6c5b101ae8863de15cb989409\n",
      "Successfully built pybullet\n",
      "Installing collected packages: pybullet\n",
      "Successfully installed pybullet-2.4.8\n"
     ]
    }
   ],
   "source": [
    "!pip install pybullet"
   ]
  },
  {
   "cell_type": "markdown",
   "metadata": {
    "colab_type": "text",
    "id": "giEs0mDI2n1r"
   },
   "source": [
    "Now we have to upload ***aida_gym*** to **Google Drive**. You may either do it yourself or just run the next cell.\n"
   ]
  },
  {
   "cell_type": "code",
   "execution_count": 5,
   "metadata": {
    "colab": {
     "base_uri": "https://localhost:8080/",
     "height": 34
    },
    "colab_type": "code",
    "executionInfo": {
     "elapsed": 3188,
     "status": "ok",
     "timestamp": 1555582113076,
     "user": {
      "displayName": "Никита Караев",
      "photoUrl": "https://lh6.googleusercontent.com/-0miK0wLOYsg/AAAAAAAAAAI/AAAAAAAAAPI/AONwKyC9sJc/s64/photo.jpg",
      "userId": "10603059828424385099"
     },
     "user_tz": -120
    },
    "id": "EW3RTlKn2BuD",
    "outputId": "3f3c6e4d-2c9a-45ee-99c4-863dc8aa8ad4"
   },
   "outputs": [
    {
     "name": "stdout",
     "output_type": "stream",
     "text": [
      "fatal: destination path '/content/gdrive/My Drive/aida_gym' already exists and is not an empty directory.\n"
     ]
    }
   ],
   "source": [
    "!git clone https://github.com/unsupervisedai/aida_gym /content/gdrive/My\\ Drive/aida_gym"
   ]
  },
  {
   "cell_type": "markdown",
   "metadata": {
    "colab_type": "text",
    "id": "m98JFOju4a6y"
   },
   "source": [
    "Now you should see  ***aida_gym*** in the output of the next cell:"
   ]
  },
  {
   "cell_type": "code",
   "execution_count": null,
   "metadata": {
    "colab": {},
    "colab_type": "code",
    "id": "kfOixAko3p_Q"
   },
   "outputs": [],
   "source": [
    "!cd /content/gdrive/My\\ Drive/; ls"
   ]
  },
  {
   "cell_type": "code",
   "execution_count": null,
   "metadata": {
    "colab": {},
    "colab_type": "code",
    "id": "fNKZM1ayXImu"
   },
   "outputs": [],
   "source": [
    "sys.path.append('/content/gdrive/My Drive/aida_gym') "
   ]
  },
  {
   "cell_type": "markdown",
   "metadata": {
    "colab_type": "text",
    "id": "_SR4uuCE4x6L"
   },
   "source": [
    "And we are able to import packages from ***aida_gym***. If it doesn't work, go to ***github*** and upload another version of ***aida_gym_env.py***. Then wait for several minutes and try to import again."
   ]
  },
  {
   "cell_type": "code",
   "execution_count": null,
   "metadata": {
    "colab": {},
    "colab_type": "code",
    "id": "dki9HEUN0vQb"
   },
   "outputs": [],
   "source": [
    "import aida_env.aida_gym_env as e\n",
    "import pybullet as p"
   ]
  },
  {
   "cell_type": "markdown",
   "metadata": {
    "colab_type": "text",
    "id": "QGZ8Pv5m0GXX"
   },
   "source": [
    "## Soft Actor-Critic Algorithm"
   ]
  },
  {
   "cell_type": "code",
   "execution_count": null,
   "metadata": {
    "colab": {},
    "colab_type": "code",
    "id": "oeW64NUnTkzG"
   },
   "outputs": [],
   "source": [
    "def create_log_gaussian(mean, log_std, t):\n",
    "    quadratic = -((0.5 * (t - mean) / (log_std.exp())).pow(2))\n",
    "    l = mean.shape\n",
    "    log_z = log_std\n",
    "    z = l[-1] * math.log(2 * math.pi)\n",
    "    log_p = quadratic.sum(dim=-1) - log_z.sum(dim=-1) - 0.5 * z\n",
    "    return log_p\n",
    "\n",
    "def logsumexp(inputs, dim=None, keepdim=False):\n",
    "    if dim is None:\n",
    "        inputs = inputs.view(-1)\n",
    "        dim = 0\n",
    "    s, _ = torch.max(inputs, dim=dim, keepdim=True)\n",
    "    outputs = s + (inputs - s).exp().sum(dim=dim, keepdim=True).log()\n",
    "    if not keepdim:\n",
    "        outputs = outputs.squeeze(dim)\n",
    "    return outputs\n",
    "\n",
    "def soft_update(target, source, tau):\n",
    "    for target_param, param in zip(target.parameters(), source.parameters()):\n",
    "        target_param.data.copy_(target_param.data * (1.0 - tau) + param.data * tau)\n",
    "\n",
    "def hard_update(target, source):\n",
    "    for target_param, param in zip(target.parameters(), source.parameters()):\n",
    "        target_param.data.copy_(param.data)\n"
   ]
  },
  {
   "cell_type": "code",
   "execution_count": null,
   "metadata": {
    "colab": {},
    "colab_type": "code",
    "id": "z3uUl32wTtdb"
   },
   "outputs": [],
   "source": [
    "LOG_SIG_MAX = 2\n",
    "LOG_SIG_MIN = -20\n",
    "epsilon = 1e-6\n",
    "\n",
    "# Initialize Policy weights\n",
    "def weights_init_(m):\n",
    "    if isinstance(m, nn.Linear):\n",
    "        torch.nn.init.xavier_uniform_(m.weight, gain=1)\n",
    "        torch.nn.init.constant_(m.bias, 0)\n",
    "\n",
    "\n",
    "class ValueNetwork(nn.Module):\n",
    "    def __init__(self, num_inputs, hidden_dim):\n",
    "        super(ValueNetwork, self).__init__()\n",
    "\n",
    "        self.linear1 = nn.Linear(num_inputs, hidden_dim)\n",
    "        self.linear2 = nn.Linear(hidden_dim, hidden_dim)\n",
    "        self.linear3 = nn.Linear(hidden_dim, 1)\n",
    "\n",
    "        self.apply(weights_init_)\n",
    "\n",
    "    def forward(self, state):\n",
    "        x = F.relu(self.linear1(state))\n",
    "        x = F.relu(self.linear2(x))\n",
    "        x = self.linear3(x)\n",
    "        return x\n",
    "\n",
    "\n",
    "class QNetwork(nn.Module):\n",
    "    def __init__(self, num_inputs, num_actions, hidden_dim):\n",
    "        super(QNetwork, self).__init__()\n",
    "\n",
    "        # Q1 architecture\n",
    "        self.linear1 = nn.Linear(num_inputs + num_actions, hidden_dim)\n",
    "        self.linear2 = nn.Linear(hidden_dim, hidden_dim)\n",
    "        self.linear3 = nn.Linear(hidden_dim, 1)\n",
    "\n",
    "        # Q2 architecture\n",
    "        self.linear4 = nn.Linear(num_inputs + num_actions, hidden_dim)\n",
    "        self.linear5 = nn.Linear(hidden_dim, hidden_dim)\n",
    "        self.linear6 = nn.Linear(hidden_dim, 1)\n",
    "\n",
    "        self.apply(weights_init_)\n",
    "\n",
    "    def forward(self, state, action):\n",
    "        xu = torch.cat([state, action], 1)\n",
    "        \n",
    "        x1 = F.relu(self.linear1(xu))\n",
    "        x1 = F.relu(self.linear2(x1))\n",
    "        x1 = self.linear3(x1)\n",
    "\n",
    "        x2 = F.relu(self.linear4(xu))\n",
    "        x2 = F.relu(self.linear5(x2))\n",
    "        x2 = self.linear6(x2)\n",
    "\n",
    "        return x1, x2\n",
    "\n",
    "\n",
    "class GaussianPolicy(nn.Module):\n",
    "    def __init__(self, num_inputs, num_actions, hidden_dim):\n",
    "        super(GaussianPolicy, self).__init__()\n",
    "        \n",
    "        self.linear1 = nn.Linear(num_inputs, hidden_dim)\n",
    "        self.linear2 = nn.Linear(hidden_dim, hidden_dim)\n",
    "\n",
    "        self.mean_linear = nn.Linear(hidden_dim, num_actions)\n",
    "        self.log_std_linear = nn.Linear(hidden_dim, num_actions)\n",
    "\n",
    "        self.apply(weights_init_)\n",
    "\n",
    "    def forward(self, state):\n",
    "        x = F.relu(self.linear1(state))\n",
    "        x = F.relu(self.linear2(x))\n",
    "        mean = self.mean_linear(x)\n",
    "        log_std = self.log_std_linear(x)\n",
    "        log_std = torch.clamp(log_std, min=LOG_SIG_MIN, max=LOG_SIG_MAX)\n",
    "        return mean, log_std\n",
    "\n",
    "    def sample(self, state):\n",
    "        mean, log_std = self.forward(state)\n",
    "        std = log_std.exp()\n",
    "        normal = Normal(mean, std)\n",
    "        x_t = normal.rsample()  # for reparameterization trick (mean + std * N(0,1))\n",
    "        action = torch.tanh(x_t)\n",
    "        log_prob = normal.log_prob(x_t)\n",
    "        # Enforcing Action Bound\n",
    "        log_prob -= torch.log(1 - action.pow(2) + epsilon)\n",
    "        log_prob = log_prob.sum(1, keepdim=True)\n",
    "        return action, log_prob, torch.tanh(mean)\n",
    "\n",
    "class DeterministicPolicy(nn.Module):\n",
    "    def __init__(self, num_inputs, num_actions, hidden_dim):\n",
    "        super(DeterministicPolicy, self).__init__()\n",
    "        self.linear1 = nn.Linear(num_inputs, hidden_dim)\n",
    "        self.linear2 = nn.Linear(hidden_dim, hidden_dim)\n",
    "\n",
    "        self.mean = nn.Linear(hidden_dim, num_actions)\n",
    "        self.noise = torch.Tensor(num_actions)\n",
    "\n",
    "        self.apply(weights_init_)\n",
    "\n",
    "    def forward(self, state):\n",
    "        x = F.relu(self.linear1(state))\n",
    "        x = F.relu(self.linear2(x))\n",
    "        mean = torch.tanh(self.mean(x))\n",
    "        return mean\n",
    "\n",
    "\n",
    "    def sample(self, state):\n",
    "        mean = self.forward(state)\n",
    "        noise = self.noise.normal_(0., std=0.1)\n",
    "        noise = noise.clamp(-0.25, 0.25)\n",
    "        action = mean + noise\n",
    "        return action, mean, torch.tensor(0.)"
   ]
  },
  {
   "cell_type": "code",
   "execution_count": null,
   "metadata": {
    "colab": {},
    "colab_type": "code",
    "id": "_WdQIv3YsO_N"
   },
   "outputs": [],
   "source": [
    "class SAC(object):\n",
    "    def __init__(self, num_inputs, action_space, args):\n",
    "\n",
    "        self.num_inputs = num_inputs\n",
    "        self.action_space = action_space.shape[0]\n",
    "        self.gamma = args.gamma\n",
    "        self.tau = args.tau\n",
    "\n",
    "        self.policy_type = args.policy\n",
    "        self.target_update_interval = args.target_update_interval\n",
    "        self.automatic_entropy_tuning = args.automatic_entropy_tuning\n",
    "\n",
    "        self.device = torch.device(\"cuda\" if args.cuda else \"cpu\") \n",
    "\n",
    "        self.critic = QNetwork(self.num_inputs, self.action_space, args.hidden_size).to(device=self.device)\n",
    "        self.critic_optim = Adam(self.critic.parameters(), lr=args.lr)\n",
    "\n",
    "        if self.policy_type == \"Gaussian\":\n",
    "            self.alpha = args.alpha\n",
    "            # Target Entropy = −dim(A) (e.g. , -6 for HalfCheetah-v2) as given in the paper\n",
    "            if self.automatic_entropy_tuning == True:\n",
    "                self.target_entropy = -torch.prod(torch.Tensor(action_space.shape).to(self.device)).item()\n",
    "                self.log_alpha = torch.zeros(1, requires_grad=True, device=self.device)\n",
    "                self.alpha_optim = Adam([self.log_alpha], lr=args.lr)\n",
    "\n",
    "\n",
    "            self.policy = GaussianPolicy(self.num_inputs, self.action_space, args.hidden_size).to(self.device)\n",
    "            self.policy_optim = Adam(self.policy.parameters(), lr=args.lr)\n",
    "\n",
    "            self.value = ValueNetwork(self.num_inputs, args.hidden_size).to(self.device)\n",
    "            self.value_target = ValueNetwork(self.num_inputs, args.hidden_size).to(self.device)\n",
    "            self.value_optim = Adam(self.value.parameters(), lr=args.lr)\n",
    "            hard_update(self.value_target, self.value)\n",
    "        else:\n",
    "            self.policy = DeterministicPolicy(self.num_inputs, self.action_space, args.hidden_size).to(self.device)\n",
    "            self.policy_optim = Adam(self.policy.parameters(), lr=args.lr)\n",
    "\n",
    "            self.critic_target = QNetwork(self.num_inputs, self.action_space, args.hidden_size).to(self.device)\n",
    "            hard_update(self.critic_target, self.critic)\n",
    "\n",
    "\n",
    "\n",
    "    def select_action(self, state, eval=False):\n",
    "        state = torch.FloatTensor(state).to(self.device).unsqueeze(0)\n",
    "        if eval == False:\n",
    "            self.policy.train()\n",
    "            action, _, _ = self.policy.sample(state)\n",
    "        else:\n",
    "            self.policy.eval()\n",
    "            _, _, action = self.policy.sample(state)\n",
    "        action = action.detach().cpu().numpy()\n",
    "        return action[0]\n",
    "\n",
    "\n",
    "\n",
    "    def update_parameters(self, state_batch, action_batch, reward_batch, next_state_batch, mask_batch, updates):\n",
    "        state_batch = torch.FloatTensor(state_batch).to(self.device)\n",
    "        next_state_batch = torch.FloatTensor(next_state_batch).to(self.device)\n",
    "        action_batch = torch.FloatTensor(action_batch).to(self.device)\n",
    "        reward_batch = torch.FloatTensor(reward_batch).to(self.device).unsqueeze(1)\n",
    "        mask_batch = torch.FloatTensor(mask_batch).to(self.device).unsqueeze(1)\n",
    "\n",
    "        qf1, qf2 = self.critic(state_batch, action_batch) # Two Q-functions to mitigate positive bias in the policy improvement step\n",
    "        pi, log_pi, _ = self.policy.sample(state_batch)\n",
    "\n",
    "        if self.policy_type == \"Gaussian\":\n",
    "            if self.automatic_entropy_tuning:\n",
    "                alpha_loss = -(self.log_alpha * (log_pi + self.target_entropy).detach()).mean()\n",
    "                self.alpha_optim.zero_grad()\n",
    "                alpha_loss.backward()\n",
    "                self.alpha_optim.step()\n",
    "                self.alpha = self.log_alpha.exp()\n",
    "                alpha_logs = torch.tensor(self.alpha) # For TensorboardX logs\n",
    "            else:\n",
    "                alpha_loss = torch.tensor(0.).to(self.device)\n",
    "                alpha_logs = torch.tensor(self.alpha) # For TensorboardX logs\n",
    "\n",
    "            vf = self.value(state_batch) # separate function approximator for the soft value can stabilize training.\n",
    "            with torch.no_grad():\n",
    "                vf_next_target = self.value_target(next_state_batch)\n",
    "                next_q_value = reward_batch + mask_batch * self.gamma * (vf_next_target)\n",
    "        else:\n",
    "            alpha_loss = torch.tensor(0.).to(self.device)\n",
    "            alpha_logs = self.alpha  # For TensorboardX logs\n",
    "            with torch.no_grad():\n",
    "                next_state_action, _, _, _, _, = self.policy.sample(next_state_batch)\n",
    "                # Use a target critic network for deterministic policy and eradicate the value value network completely.\n",
    "                qf1_next_target, qf2_next_target = self.critic_target(next_state_batch, next_state_action)\n",
    "                min_qf_next_target = torch.min(qf1_next_target, qf2_next_target)\n",
    "                next_q_value = reward_batch + mask_batch * self.gamma * (min_qf_next_target)\n",
    "        \n",
    "        \n",
    "        qf1_loss = F.mse_loss(qf1, next_q_value) # JQ = 𝔼(st,at)~D[0.5(Q1(st,at) - r(st,at) - γ(𝔼st+1~p[V(st+1)]))^2]\n",
    "        qf2_loss = F.mse_loss(qf2, next_q_value) # JQ = 𝔼(st,at)~D[0.5(Q1(st,at) - r(st,at) - γ(𝔼st+1~p[V(st+1)]))^2]\n",
    "        qf1_pi, qf2_pi = self.critic(state_batch, pi)\n",
    "        min_qf_pi = torch.min(qf1_pi, qf2_pi)\n",
    "\n",
    "        if self.policy_type == \"Gaussian\":\n",
    "            vf_target = min_qf_pi - (self.alpha * log_pi)\n",
    "            value_loss = F.mse_loss(vf, vf_target.detach()) # JV = 𝔼st~D[0.5(V(st) - (𝔼at~π[Qmin(st,at) - α * log π(at|st)]))^2]\n",
    "\n",
    "        policy_loss = ((self.alpha * log_pi) - min_qf_pi).mean() # Jπ = 𝔼st∼D,εt∼N[α * logπ(f(εt;st)|st) − Q(st,f(εt;st))]\n",
    "\n",
    "        # Regularization Loss\n",
    "        # mean_loss = 0.001 * mean.pow(2).mean()\n",
    "        # std_loss = 0.001 * log_std.pow(2).mean()\n",
    "\n",
    "        # policy_loss += mean_loss + std_loss\n",
    "\n",
    "        self.critic_optim.zero_grad()\n",
    "        qf1_loss.backward()\n",
    "        self.critic_optim.step()\n",
    "\n",
    "        self.critic_optim.zero_grad()\n",
    "        qf2_loss.backward()\n",
    "        self.critic_optim.step()\n",
    "\n",
    "        if self.policy_type == \"Gaussian\":\n",
    "            self.value_optim.zero_grad()\n",
    "            value_loss.backward()\n",
    "            self.value_optim.step()\n",
    "        else:\n",
    "            value_loss = torch.tensor(0.).to(self.device)\n",
    "\n",
    "        self.policy_optim.zero_grad()\n",
    "        policy_loss.backward()\n",
    "        self.policy_optim.step()\n",
    "        \n",
    "        \n",
    "        \"\"\"\n",
    "        We update the target weights to match the current value function weights periodically\n",
    "        Update target parameter after every n(args.target_update_interval) updates\n",
    "        \"\"\"\n",
    "        if updates % self.target_update_interval == 0 and self.policy_type == \"Deterministic\":\n",
    "            soft_update(self.critic_target, self.critic, self.tau)\n",
    "\n",
    "        elif updates % self.target_update_interval == 0 and self.policy_type == \"Gaussian\":\n",
    "            soft_update(self.value_target, self.value, self.tau)\n",
    "        return value_loss.item(), qf1_loss.item(), qf2_loss.item(), policy_loss.item(), alpha_loss.item(), alpha_logs.item()\n",
    "\n",
    "    # Save model parameters\n",
    "    def save_model(self, env_name, suffix=\"\", actor_path=None, critic_path=None, value_path=None):\n",
    "        if not os.path.exists('models/'):\n",
    "            os.makedirs('models/')\n",
    "\n",
    "        if actor_path is None:\n",
    "            actor_path = \"models/sac_actor_{}_{}\".format(env_name, suffix)\n",
    "        if critic_path is None:\n",
    "            critic_path = \"models/sac_critic_{}_{}\".format(env_name, suffix)\n",
    "        if value_path is None:\n",
    "            value_path = \"models/sac_value_{}_{}\".format(env_name, suffix)\n",
    "        print('Saving models to {}, {} and {}'.format(actor_path, critic_path, value_path))\n",
    "        torch.save(self.value.state_dict(), value_path)\n",
    "        torch.save(self.policy.state_dict(), actor_path)\n",
    "        torch.save(self.critic.state_dict(), critic_path)\n",
    "    \n",
    "    # Load model parameters\n",
    "    def load_model(self, actor_path, critic_path, value_path):\n",
    "        print('Loading models from {}, {} and {}'.format(actor_path, critic_path, value_path))\n",
    "        if actor_path is not None:\n",
    "            self.policy.load_state_dict(torch.load(actor_path))\n",
    "        if critic_path is not None:\n",
    "            self.critic.load_state_dict(torch.load(critic_path))\n",
    "        if value_path is not None:\n",
    "            self.value.load_state_dict(torch.load(value_path))\n"
   ]
  },
  {
   "cell_type": "code",
   "execution_count": null,
   "metadata": {
    "colab": {},
    "colab_type": "code",
    "id": "X3_Ukc6rULhL"
   },
   "outputs": [],
   "source": [
    "class ReplayMemory:\n",
    "    def __init__(self, capacity):\n",
    "        self.capacity = capacity\n",
    "        self.buffer = []\n",
    "        self.position = 0\n",
    "\n",
    "    def push(self, state, action, reward, next_state, done):\n",
    "        if len(self.buffer) < self.capacity:\n",
    "            self.buffer.append(None)\n",
    "        self.buffer[self.position] = (state, action, reward, next_state, done)\n",
    "        self.position = (self.position + 1) % self.capacity\n",
    "\n",
    "    def sample(self, batch_size):\n",
    "        batch = random.sample(self.buffer, batch_size)\n",
    "        state, action, reward, next_state, done = map(np.stack, zip(*batch))\n",
    "        return state, action, reward, next_state, done\n",
    "    def save(self, path):\n",
    "        np.save(path/'ReplayMemory_'+str(self.position)+'.npy', memory.buffer)\n",
    "        \n",
    "    def load(self, path, position):\n",
    "        self.buffer = list(np.load(path/'ReplayMemory_'+str(position)+'.npy'))\n",
    "        self.position = position\n",
    "        \n",
    "        \n",
    "    def __len__(self):\n",
    "        return len(self.buffer)"
   ]
  },
  {
   "cell_type": "code",
   "execution_count": null,
   "metadata": {
    "colab": {},
    "colab_type": "code",
    "id": "Et0Bj18lUf1F"
   },
   "outputs": [],
   "source": [
    "class NormalizedActions(gym.ActionWrapper):\n",
    "\n",
    "    def action(self, action):\n",
    "        action = (action + 1) / 2  # [-1, 1] => [0, 1]\n",
    "        action *= (self.action_space.high - self.action_space.low)\n",
    "        action += self.action_space.low\n",
    "        return action\n",
    "\n",
    "    def _reverse_action(self, action):\n",
    "        action -= self.action_space.low\n",
    "        action /= (self.action_space.high - self.action_space.low)\n",
    "        action = action * 2 - 1\n",
    "        return action"
   ]
  },
  {
   "cell_type": "code",
   "execution_count": 17,
   "metadata": {
    "colab": {
     "base_uri": "https://localhost:8080/",
     "height": 54
    },
    "colab_type": "code",
    "executionInfo": {
     "elapsed": 719,
     "status": "ok",
     "timestamp": 1555582668128,
     "user": {
      "displayName": "Никита Караев",
      "photoUrl": "https://lh6.googleusercontent.com/-0miK0wLOYsg/AAAAAAAAAAI/AAAAAAAAAPI/AONwKyC9sJc/s64/photo.jpg",
      "userId": "10603059828424385099"
     },
     "user_tz": -120
    },
    "id": "-Cd-lwYr1IYD",
    "outputId": "a3344f09-9488-4123-a538-a5809f1b85ea"
   },
   "outputs": [
    {
     "data": {
      "text/plain": [
       "_StoreTrueAction(option_strings=['--cuda'], dest='cuda', nargs=0, const=True, default=False, type=None, choices=None, help='run on CUDA (default: False)', metavar=None)"
      ]
     },
     "execution_count": 17,
     "metadata": {
      "tags": []
     },
     "output_type": "execute_result"
    }
   ],
   "source": [
    "parser = argparse.ArgumentParser(description='PyTorch REINFORCE example')\n",
    "parser.add_argument('--env-name', default=\"HalfCheetah-v2\",\n",
    "                    help='name of the environment to run')\n",
    "parser.add_argument('--policy', default=\"Gaussian\",\n",
    "                    help='algorithm to use: Gaussian | Deterministic')\n",
    "parser.add_argument('--eval', type=bool, default=True,\n",
    "                    help='Evaluates a policy a policy every 10 episode (default:True)')\n",
    "parser.add_argument('--gamma', type=float, default=0.99, metavar='G',\n",
    "                    help='discount factor for reward (default: 0.99)')\n",
    "parser.add_argument('--tau', type=float, default=0.005, metavar='G',\n",
    "                    help='target smoothing coefficient(τ) (default: 0.005)')\n",
    "parser.add_argument('--lr', type=float, default=0.0003, metavar='G',\n",
    "                    help='learning rate (default: 0.0003)')\n",
    "parser.add_argument('--alpha', type=float, default=0.2, metavar='G',\n",
    "                    help='Temperature parameter α determines the relative importance of the entropy term against the reward (default: 0.2)')\n",
    "parser.add_argument('--automatic_entropy_tuning', type=bool, default=False, metavar='G',\n",
    "                    help='Temperature parameter α automaically adjusted.')\n",
    "parser.add_argument('--seed', type=int, default=456, metavar='N',\n",
    "                    help='random seed (default: 456)')\n",
    "parser.add_argument('--batch_size', type=int, default=256, metavar='N',\n",
    "                    help='batch size (default: 256)')\n",
    "parser.add_argument('--num_steps', type=int, default=1000001, metavar='N',\n",
    "                    help='maximum number of steps (default: 1000000)')\n",
    "parser.add_argument('--hidden_size', type=int, default=256, metavar='N',\n",
    "                    help='hidden size (default: 256)')\n",
    "parser.add_argument('--updates_per_step', type=int, default=1, metavar='N',\n",
    "                    help='model updates per simulator step (default: 1)')\n",
    "parser.add_argument('--start_steps', type=int, default=10000, metavar='N',\n",
    "                    help='Steps sampling random actions (default: 10000)')\n",
    "parser.add_argument('--target_update_interval', type=int, default=1, metavar='N',\n",
    "                    help='Value target update per no. of updates per step (default: 1)')\n",
    "parser.add_argument('--replay_size', type=int, default=1000000, metavar='N',\n",
    "                    help='size of replay buffer (default: 10000000)')\n",
    "parser.add_argument('--cuda', action=\"store_true\",\n",
    "                    help='run on CUDA (default: False)')"
   ]
  },
  {
   "cell_type": "markdown",
   "metadata": {
    "colab_type": "text",
    "id": "EhjLufu50yqG"
   },
   "source": [
    "## Training of an Aida agent"
   ]
  },
  {
   "cell_type": "markdown",
   "metadata": {
    "colab_type": "text",
    "id": "UarbcH2Y1hoW"
   },
   "source": [
    "We will pass these arguments to initialize an agent instance\n"
   ]
  },
  {
   "cell_type": "code",
   "execution_count": null,
   "metadata": {
    "colab": {},
    "colab_type": "code",
    "id": "NYgNH5YgVXZH"
   },
   "outputs": [],
   "source": [
    "global args\n",
    "args = parser.parse_args(args=['--env-name', 'Ant-v2', '--alpha', '0.2', '--cuda'])"
   ]
  },
  {
   "cell_type": "markdown",
   "metadata": {
    "colab_type": "text",
    "id": "vvg1RCNT_FTl"
   },
   "source": [
    "Define the path to save the trained network and the agent's memory. "
   ]
  },
  {
   "cell_type": "code",
   "execution_count": null,
   "metadata": {
    "colab": {},
    "colab_type": "code",
    "id": "OkZaoo6p_D02"
   },
   "outputs": [],
   "source": [
    "model_path = Path(root_dir+\"sac_2_saved_models\");"
   ]
  },
  {
   "cell_type": "markdown",
   "metadata": {
    "colab_type": "text",
    "id": "XT6epJq-9Zoh"
   },
   "source": [
    "Let define our environment. Change weights to modify the reward."
   ]
  },
  {
   "cell_type": "code",
   "execution_count": 24,
   "metadata": {
    "colab": {
     "base_uri": "https://localhost:8080/",
     "height": 173
    },
    "colab_type": "code",
    "executionInfo": {
     "elapsed": 947,
     "status": "ok",
     "timestamp": 1555582947701,
     "user": {
      "displayName": "Никита Караев",
      "photoUrl": "https://lh6.googleusercontent.com/-0miK0wLOYsg/AAAAAAAAAAI/AAAAAAAAAPI/AONwKyC9sJc/s64/photo.jpg",
      "userId": "10603059828424385099"
     },
     "user_tz": -120
    },
    "id": "71tEIzD3X-FK",
    "outputId": "be9c8040-ae4f-4e2c-87aa-31a28ad1ddbf"
   },
   "outputs": [
    {
     "name": "stdout",
     "output_type": "stream",
     "text": [
      "urdf_root=/usr/local/lib/python3.6/dist-packages/pybullet_data\n",
      "/content/gdrive/My Drive/aida_gym/aida_env/urdf/plane.urdf\n",
      "/usr/local/lib/python3.6/dist-packages/pybullet_data/plane.urdf\n",
      "0.01 1.0\n"
     ]
    },
    {
     "name": "stderr",
     "output_type": "stream",
     "text": [
      "/usr/local/lib/python3.6/dist-packages/gym/logger.py:30: UserWarning: \u001b[33mWARN: gym.spaces.Box autodetected dtype as <class 'numpy.float32'>. Please provide explicit dtype.\u001b[0m\n",
      "  warnings.warn(colorize('%s: %s'%('WARN', msg % args), 'yellow'))\n",
      "/usr/local/lib/python3.6/dist-packages/gym/logger.py:30: UserWarning: \u001b[33mWARN: Could not seed environment <AidaBulletEnv instance>\u001b[0m\n",
      "  warnings.warn(colorize('%s: %s'%('WARN', msg % args), 'yellow'))\n"
     ]
    }
   ],
   "source": [
    "env = NormalizedActions(e.AidaBulletEnv(\n",
    "               distance_weight=350,\n",
    "               energy_weight=0.5,\n",
    "               shake_weight=40,\n",
    "               drift_weight=40,\n",
    "               height_weight=10,\n",
    "               back_weight=5,\n",
    "               render=False,\n",
    "               on_rack=False))\n",
    "\n",
    "torch.manual_seed(args.seed)\n",
    "np.random.seed(args.seed)\n",
    "env.seed(args.seed)"
   ]
  },
  {
   "cell_type": "markdown",
   "metadata": {
    "colab_type": "text",
    "id": "kxNTxZEm-Ds0"
   },
   "source": [
    "Let define our agent. "
   ]
  },
  {
   "cell_type": "code",
   "execution_count": null,
   "metadata": {
    "colab": {},
    "colab_type": "code",
    "id": "7vGofFEOYMhF"
   },
   "outputs": [],
   "source": [
    "agent = SAC(env.observation_space.shape[0], env.action_space, args)"
   ]
  },
  {
   "cell_type": "markdown",
   "metadata": {
    "colab_type": "text",
    "id": "oSA6HRfN-MGq"
   },
   "source": [
    "Check that training will be on GPU. The device type should be ***cuda***."
   ]
  },
  {
   "cell_type": "code",
   "execution_count": 27,
   "metadata": {
    "colab": {
     "base_uri": "https://localhost:8080/",
     "height": 34
    },
    "colab_type": "code",
    "executionInfo": {
     "elapsed": 614,
     "status": "ok",
     "timestamp": 1555583040538,
     "user": {
      "displayName": "Никита Караев",
      "photoUrl": "https://lh6.googleusercontent.com/-0miK0wLOYsg/AAAAAAAAAAI/AAAAAAAAAPI/AONwKyC9sJc/s64/photo.jpg",
      "userId": "10603059828424385099"
     },
     "user_tz": -120
    },
    "id": "oCAn0UBXhphx",
    "outputId": "0bdb084f-578d-4b8c-cd4f-13bbf6616cc2"
   },
   "outputs": [
    {
     "data": {
      "text/plain": [
       "device(type='cuda')"
      ]
     },
     "execution_count": 27,
     "metadata": {
      "tags": []
     },
     "output_type": "execute_result"
    }
   ],
   "source": [
    "agent.device"
   ]
  },
  {
   "cell_type": "code",
   "execution_count": null,
   "metadata": {
    "colab": {},
    "colab_type": "code",
    "id": "qyiX_20VYU5_"
   },
   "outputs": [],
   "source": [
    "memory = ReplayMemory(args.replay_size)"
   ]
  },
  {
   "cell_type": "markdown",
   "metadata": {
    "colab_type": "text",
    "id": "zeHNr3tE_6z2"
   },
   "source": [
    "Imports to save videos of the best results:"
   ]
  },
  {
   "cell_type": "code",
   "execution_count": null,
   "metadata": {
    "colab": {},
    "colab_type": "code",
    "id": "qwU1Me_-ZK8W"
   },
   "outputs": [],
   "source": [
    "%reload_ext autoreload\n",
    "%autoreload 2\n",
    "%matplotlib inline"
   ]
  },
  {
   "cell_type": "code",
   "execution_count": null,
   "metadata": {
    "colab": {},
    "colab_type": "code",
    "id": "9lPGHDCH_3aP"
   },
   "outputs": [],
   "source": [
    "import numpy as np\n",
    "import matplotlib.pyplot as plt\n",
    "from matplotlib import animation, rc\n",
    "from IPython.display import HTML\n",
    "from IPython.display import clear_output"
   ]
  },
  {
   "cell_type": "code",
   "execution_count": null,
   "metadata": {
    "colab": {},
    "colab_type": "code",
    "id": "XldAgZOVZRus"
   },
   "outputs": [],
   "source": [
    "def plot(frame_idx, rewards):\n",
    "    clear_output(True)\n",
    "    plt.figure(figsize=(20,5))\n",
    "    plt.subplot(131)\n",
    "    plt.title('frame %s. reward: %s' % (frame_idx, rewards[-1]))\n",
    "    plt.plot(rewards)\n",
    "    plt.show()"
   ]
  },
  {
   "cell_type": "markdown",
   "metadata": {
    "colab_type": "text",
    "id": "A3dOuKQ8Af8x"
   },
   "source": [
    "If you have a pretrained model, you could load it like this:"
   ]
  },
  {
   "cell_type": "code",
   "execution_count": 40,
   "metadata": {
    "colab": {
     "base_uri": "https://localhost:8080/",
     "height": 71
    },
    "colab_type": "code",
    "executionInfo": {
     "elapsed": 20804,
     "status": "ok",
     "timestamp": 1555583863849,
     "user": {
      "displayName": "Никита Караев",
      "photoUrl": "https://lh6.googleusercontent.com/-0miK0wLOYsg/AAAAAAAAAAI/AAAAAAAAAPI/AONwKyC9sJc/s64/photo.jpg",
      "userId": "10603059828424385099"
     },
     "user_tz": -120
    },
    "id": "x-fcMUEVOb1H",
    "outputId": "4b1c92ee-6f24-464e-bef7-01f9bd1419eb"
   },
   "outputs": [
    {
     "name": "stdout",
     "output_type": "stream",
     "text": [
      "Loading models from /content/gdrive/My Drive/PSC/sac_2_saved_models/sac_actor_aida2_br_, /content/gdrive/My Drive/PSC/sac_2_saved_models/sac_critic_aida2_br_ and /content/gdrive/My Drive/PSC/sac_2_saved_models/sac_value_aida2_br_\n"
     ]
    },
    {
     "data": {
      "text/plain": [
       "1000000"
      ]
     },
     "execution_count": 40,
     "metadata": {
      "tags": []
     },
     "output_type": "execute_result"
    }
   ],
   "source": [
    "position = 900007#look on the memory .npy file in your folder to define correctly this position number\n",
    "\n",
    "agent.load_model(actor_path=model_path/\"sac_actor_aida2_br_\",critic_path=model_path/\"sac_critic_aida2_br_\",value_path=model_path/\"sac_value_aida2_br_\")\n",
    "memory.load(model_path, position); len(memory.buffer)"
   ]
  },
  {
   "cell_type": "markdown",
   "metadata": {
    "colab_type": "text",
    "id": "TCfQs_5NBiou"
   },
   "source": [
    "The most important thing - the training loop!\n",
    "\n",
    "---\n",
    "\n",
    "*   It will save your model to tour **model_path** every 100.000 frames (frames are  different from the episodes) An episode is a period of time when robot walks till he falls. \n",
    "*   It will also save videos of best results to your **model_path**.\n",
    "*   You can see the plot with the reward changing history below the cell.\n",
    "*   Before the training robot will try some random actions for the first ***args.start_steps*** steps (you can change it by commenting the following lines in the loop)\n",
    "\n",
    "\n",
    "\n",
    "\n",
    "\n",
    "\n"
   ]
  },
  {
   "cell_type": "code",
   "execution_count": 45,
   "metadata": {
    "colab": {
     "base_uri": "https://localhost:8080/",
     "height": 857
    },
    "colab_type": "code",
    "executionInfo": {
     "elapsed": 26266,
     "status": "error",
     "timestamp": 1555585080939,
     "user": {
      "displayName": "Никита Караев",
      "photoUrl": "https://lh6.googleusercontent.com/-0miK0wLOYsg/AAAAAAAAAAI/AAAAAAAAAPI/AONwKyC9sJc/s64/photo.jpg",
      "userId": "10603059828424385099"
     },
     "user_tz": -120
    },
    "id": "IBB_Y9x8S6YC",
    "outputId": "5fdb1323-2c03-4ac3-97b9-023d00345512"
   },
   "outputs": [
    {
     "data": {
      "image/png": "[encoded data removed]",
      "text/plain": [
       "<Figure size 1440x360 with 1 Axes>"
      ]
     },
     "metadata": {
      "tags": []
     },
     "output_type": "display_data"
    },
    {
     "name": "stdout",
     "output_type": "stream",
     "text": [
      "Episode: 29, total numsteps: 2258, reward: 17.68, average reward: -58.81\n",
      "/content/gdrive/My Drive/aida_gym/aida_env/urdf/plane.urdf\n",
      "/usr/local/lib/python3.6/dist-packages/pybullet_data/plane.urdf\n",
      "0.01 1.0\n"
     ]
    },
    {
     "ename": "KeyboardInterrupt",
     "evalue": "ignored",
     "output_type": "error",
     "traceback": [
      "\u001b[0;31m---------------------------------------------------------------------------\u001b[0m",
      "\u001b[0;31mKeyboardInterrupt\u001b[0m                         Traceback (most recent call last)",
      "\u001b[0;32m<ipython-input-45-155f07dc568f>\u001b[0m in \u001b[0;36m<module>\u001b[0;34m()\u001b[0m\n\u001b[1;32m     66\u001b[0m             \u001b[0mnext_state\u001b[0m\u001b[0;34m,\u001b[0m \u001b[0mreward\u001b[0m\u001b[0;34m,\u001b[0m \u001b[0mdone\u001b[0m\u001b[0;34m,\u001b[0m \u001b[0m_\u001b[0m \u001b[0;34m=\u001b[0m \u001b[0menv\u001b[0m\u001b[0;34m.\u001b[0m\u001b[0mstep\u001b[0m\u001b[0;34m(\u001b[0m\u001b[0maction\u001b[0m\u001b[0;34m)\u001b[0m\u001b[0;34m\u001b[0m\u001b[0;34m\u001b[0m\u001b[0m\n\u001b[1;32m     67\u001b[0m             \u001b[0mepisode_reward\u001b[0m \u001b[0;34m+=\u001b[0m \u001b[0mreward\u001b[0m\u001b[0;34m\u001b[0m\u001b[0;34m\u001b[0m\u001b[0m\n\u001b[0;32m---> 68\u001b[0;31m             \u001b[0mframes\u001b[0m\u001b[0;34m.\u001b[0m\u001b[0mappend\u001b[0m\u001b[0;34m(\u001b[0m\u001b[0menv\u001b[0m\u001b[0;34m.\u001b[0m\u001b[0mrender\u001b[0m\u001b[0;34m(\u001b[0m\u001b[0mmode\u001b[0m \u001b[0;34m=\u001b[0m \u001b[0;34m'rgb_array'\u001b[0m\u001b[0;34m)\u001b[0m\u001b[0;34m)\u001b[0m\u001b[0;34m\u001b[0m\u001b[0;34m\u001b[0m\u001b[0m\n\u001b[0m\u001b[1;32m     69\u001b[0m \u001b[0;34m\u001b[0m\u001b[0m\n\u001b[1;32m     70\u001b[0m             \u001b[0mstate\u001b[0m \u001b[0;34m=\u001b[0m \u001b[0mnext_state\u001b[0m\u001b[0;34m\u001b[0m\u001b[0;34m\u001b[0m\u001b[0m\n",
      "\u001b[0;32m/usr/local/lib/python3.6/dist-packages/gym/core.py\u001b[0m in \u001b[0;36mrender\u001b[0;34m(self, mode, **kwargs)\u001b[0m\n\u001b[1;32m    274\u001b[0m \u001b[0;34m\u001b[0m\u001b[0m\n\u001b[1;32m    275\u001b[0m     \u001b[0;32mdef\u001b[0m \u001b[0mrender\u001b[0m\u001b[0;34m(\u001b[0m\u001b[0mself\u001b[0m\u001b[0;34m,\u001b[0m \u001b[0mmode\u001b[0m\u001b[0;34m=\u001b[0m\u001b[0;34m'human'\u001b[0m\u001b[0;34m,\u001b[0m \u001b[0;34m**\u001b[0m\u001b[0mkwargs\u001b[0m\u001b[0;34m)\u001b[0m\u001b[0;34m:\u001b[0m\u001b[0;34m\u001b[0m\u001b[0;34m\u001b[0m\u001b[0m\n\u001b[0;32m--> 276\u001b[0;31m         \u001b[0;32mreturn\u001b[0m \u001b[0mself\u001b[0m\u001b[0;34m.\u001b[0m\u001b[0menv\u001b[0m\u001b[0;34m.\u001b[0m\u001b[0mrender\u001b[0m\u001b[0;34m(\u001b[0m\u001b[0mmode\u001b[0m\u001b[0;34m,\u001b[0m \u001b[0;34m**\u001b[0m\u001b[0mkwargs\u001b[0m\u001b[0;34m)\u001b[0m\u001b[0;34m\u001b[0m\u001b[0;34m\u001b[0m\u001b[0m\n\u001b[0m\u001b[1;32m    277\u001b[0m \u001b[0;34m\u001b[0m\u001b[0m\n\u001b[1;32m    278\u001b[0m     \u001b[0;32mdef\u001b[0m \u001b[0mclose\u001b[0m\u001b[0;34m(\u001b[0m\u001b[0mself\u001b[0m\u001b[0;34m)\u001b[0m\u001b[0;34m:\u001b[0m\u001b[0;34m\u001b[0m\u001b[0;34m\u001b[0m\u001b[0m\n",
      "\u001b[0;32m/content/gdrive/My Drive/aida_gym/aida_env/aida_gym_env.py\u001b[0m in \u001b[0;36m_render\u001b[0;34m(self, mode, close)\u001b[0m\n\u001b[1;32m    280\u001b[0m     (_, _, px, _, _) = self._pybullet_client.getCameraImage(\n\u001b[1;32m    281\u001b[0m         \u001b[0mwidth\u001b[0m\u001b[0;34m=\u001b[0m\u001b[0mRENDER_WIDTH\u001b[0m\u001b[0;34m,\u001b[0m \u001b[0mheight\u001b[0m\u001b[0;34m=\u001b[0m\u001b[0mRENDER_HEIGHT\u001b[0m\u001b[0;34m,\u001b[0m \u001b[0mviewMatrix\u001b[0m\u001b[0;34m=\u001b[0m\u001b[0mview_matrix\u001b[0m\u001b[0;34m,\u001b[0m\u001b[0;34m\u001b[0m\u001b[0;34m\u001b[0m\u001b[0m\n\u001b[0;32m--> 282\u001b[0;31m         projectionMatrix=proj_matrix, renderer=pybullet.ER_BULLET_HARDWARE_OPENGL)\n\u001b[0m\u001b[1;32m    283\u001b[0m     \u001b[0mrgb_array\u001b[0m \u001b[0;34m=\u001b[0m \u001b[0mnp\u001b[0m\u001b[0;34m.\u001b[0m\u001b[0marray\u001b[0m\u001b[0;34m(\u001b[0m\u001b[0mpx\u001b[0m\u001b[0;34m)\u001b[0m\u001b[0;34m\u001b[0m\u001b[0;34m\u001b[0m\u001b[0m\n\u001b[1;32m    284\u001b[0m     \u001b[0mrgb_array\u001b[0m \u001b[0;34m=\u001b[0m \u001b[0mrgb_array\u001b[0m\u001b[0;34m[\u001b[0m\u001b[0;34m:\u001b[0m\u001b[0;34m,\u001b[0m \u001b[0;34m:\u001b[0m\u001b[0;34m,\u001b[0m \u001b[0;34m:\u001b[0m\u001b[0;36m3\u001b[0m\u001b[0;34m]\u001b[0m\u001b[0;34m\u001b[0m\u001b[0;34m\u001b[0m\u001b[0m\n",
      "\u001b[0;31mKeyboardInterrupt\u001b[0m: "
     ]
    }
   ],
   "source": [
    "# Training Loop\n",
    "rewards = []\n",
    "rews=[]\n",
    "test_rewards = []\n",
    "total_numsteps = 0\n",
    "updates = 0\n",
    "reward_max = 0\n",
    "for i_episode in itertools.count(1):\n",
    "    env.reset();\n",
    "    state,_ , _, _ = env.step(env.action_space.sample())\n",
    "    iteration=0\n",
    "    episode_reward = 0\n",
    "    while True and iteration<14000:\n",
    "        if args.start_steps > total_numsteps:#COMMENT THESE LINES TO NOT DO RANDOM ACTIONS BEFORE THE TRAINING\n",
    "          action = env.action_space.sample() #\n",
    "        else:                                #\n",
    "          action = agent.select_action(state)  # Sample action from policy\n",
    "        if len(memory) > args.batch_size:\n",
    "            for i in range(args.updates_per_step): # Number of updates per step in environment\n",
    "                # Sample a batch from memory\n",
    "                state_batch, action_batch, reward_batch, next_state_batch, mask_batch = memory.sample(args.batch_size)\n",
    "                # Update parameters of all the networks\n",
    "                value_loss, critic_1_loss, critic_2_loss, policy_loss, ent_loss, alpha = agent.update_parameters(state_batch, action_batch,\n",
    "                                                                                                reward_batch, next_state_batch, \n",
    "                                                                                                mask_batch, updates)\n",
    "                updates += 1\n",
    "\n",
    "        next_state, reward, done, _ = env.step(action)  # Step\n",
    "        mask = float(not done)  # 1 for not done and 0 for done\n",
    "        \n",
    "       \n",
    "        memory.push(state, action, reward, next_state, mask) # Append transition to memory\n",
    "\n",
    "        state = next_state\n",
    "        \n",
    "        \n",
    "        if total_numsteps%100000==0:\n",
    "            memory.save(model_path)\n",
    "            agent.save_model(\"aida\",actor_path=model_path/\"sac_actor_aida2_br_\",critic_path=model_path/\"sac_critic_aida2_br_\",value_path=model_path/\"sac_value_aida2_br_\")\n",
    "            print('Model saved')\n",
    "        total_numsteps += 1\n",
    "        episode_reward += reward\n",
    "        iteration+=1\n",
    "        if done:\n",
    "            print('done')\n",
    "            break\n",
    "    \n",
    "    if total_numsteps > args.num_steps:\n",
    "        break\n",
    "   \n",
    "    rewards.append(episode_reward)\n",
    "    plot(total_numsteps, rewards)\n",
    "    print(\"Episode: {}, total numsteps: {}, reward: {}, average reward: {}\".format(i_episode, total_numsteps, np.round(rewards[-1],2),\n",
    "                                                                                np.round(np.mean(rewards[-100:]),2)))\n",
    "    # Save videos of the best results\n",
    "    if episode_reward > reward_max*1.05:\n",
    "        reward_max = episode_reward\n",
    "        env.reset()\n",
    "        state,_ , _, _ = env.step(env.action_space.sample())\n",
    "        episode_reward = 0\n",
    "        i=0\n",
    "        frames=[]\n",
    "\n",
    "        while True and i<1000:\n",
    "            action = agent.select_action(state, eval=True)\n",
    "\n",
    "            next_state, reward, done, _ = env.step(action)\n",
    "            episode_reward += reward\n",
    "            frames.append(env.render(mode = 'rgb_array'))\n",
    "\n",
    "            state = next_state\n",
    "            i+=1\n",
    "            if done:\n",
    "                break\n",
    "        fig, ax = plt.subplots()\n",
    "        plt.close()\n",
    "        ax.set_xlim(( -4, 4))\n",
    "        ax.set_ylim((-2, 2))\n",
    "        line1, = ax.plot([], [], lw=2)\n",
    "        line2, = ax.plot([], [], lw=2)\n",
    "\n",
    "        # initialization function: plot the background of each frame\n",
    "        patch = plt.imshow(frames[0])\n",
    "        plt.axis('off')\n",
    "\n",
    "        def animate(i):\n",
    "              patch.set_data(frames[i])\n",
    "\n",
    "        anim = animation.FuncAnimation(plt.gcf(), animate, frames = len(frames), interval=50)\n",
    "\n",
    "        rc('animation', html='jshtml')\n",
    "        Writer = animation.writers['ffmpeg']\n",
    "        writer = Writer(fps=15, metadata=dict(artist='Me'), bitrate=1800)\n",
    "        #writer.add_scalar('reward/test', episode_reward, i_episode)\n",
    "        anim.save(model_path/str(i_episode)+'.mp4', writer=writer)\n",
    "        test_rewards.append(episode_reward)\n",
    "        print(\"----------------------------------------\")\n",
    "        print(\"Test Episode: {}, reward: {}\".format(i_episode, test_rewards[-1]))\n",
    "        print(\"----------------------------------------\")\n",
    "    \n",
    "env.close()"
   ]
  },
  {
   "cell_type": "code",
   "execution_count": null,
   "metadata": {
    "colab": {},
    "colab_type": "code",
    "id": "eBIYb64dFRIw"
   },
   "outputs": [],
   "source": []
  }
 ],
 "metadata": {
  "accelerator": "GPU",
  "colab": {
   "collapsed_sections": [],
   "name": "sac_v2.ipynb",
   "provenance": [],
   "version": "0.3.2"
  },
  "kernelspec": {
   "display_name": "Python 3",
   "language": "python",
   "name": "python3"
  },
  "language_info": {
   "codemirror_mode": {
    "name": "ipython",
    "version": 3
   },
   "file_extension": ".py",
   "mimetype": "text/x-python",
   "name": "python",
   "nbconvert_exporter": "python",
   "pygments_lexer": "ipython3",
   "version": "3.7.2"
  }
 },
 "nbformat": 4,
 "nbformat_minor": 2
}
