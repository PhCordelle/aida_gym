{
 "cells": [
  {
   "cell_type": "code",
   "execution_count": null,
   "metadata": {},
   "outputs": [],
   "source": [
    "   env = e.AidaBulletEnv(render=True, on_rack=False)  #  use on_rack to remove gravity\n",
    "    actions = -0.5 * np.ones(env.action_space.shape)\n",
    "    for i in range(10):\n",
    "        env.render()\n",
    "        env.step(actions) # tak\"e a random action\n",
    "    action1 = -0.7 * np.ones(env.action_space.shape)\n",
    "    action2 = -0.4 * np.ones(env.action_space.shape)\n",
    "    for i in range(1000):\n",
    "        env.render()\n",
    "        if (i/10) % 2 == 0:\n",
    "            print(\"action 1\")\n",
    "            actions = action1\n",
    "        else:\n",
    "            print(\"action 2\")\n",
    "            actions = action2\n",
    "        env.step(actions) # tak\"e a random action"
   ]
  }
 ],
 "metadata": {
  "kernelspec": {
   "display_name": "Python 3",
   "language": "python",
   "name": "python3"
  }
 },
 "nbformat": 4,
 "nbformat_minor": 2
}
