{
 "cells": [
  {
   "cell_type": "code",
   "execution_count": 1,
   "metadata": {},
   "outputs": [],
   "source": [
    "import aida_env.aida_gym_env as e\n",
    "import pybullet as p\n",
    "import numpy as np\n"
   ]
  },
  {
   "cell_type": "code",
   "execution_count": 2,
   "metadata": {},
   "outputs": [
    {
     "name": "stdout",
     "output_type": "stream",
     "text": [
      "urdf_root=/home/clement/.virtualenvs/env3/lib/python3.5/site-packages/pybullet_data\n",
      "0.01 1.0\n",
      "\u001b[33mWARN: gym.spaces.Box autodetected dtype as <class 'numpy.float32'>. Please provide explicit dtype.\u001b[0m\n",
      "\u001b[33mWARN: gym.spaces.Box autodetected dtype as <class 'numpy.float32'>. Please provide explicit dtype.\u001b[0m\n"
     ]
    }
   ],
   "source": [
    "env = e.AidaBulletEnv(render=True, on_rack=True)  #  use on_rack to remove gravity\n",
    "   "
   ]
  },
  {
   "cell_type": "code",
   "execution_count": 3,
   "metadata": {},
   "outputs": [],
   "source": [
    "actions = -0.5 * np.ones(env.action_space.shape)\n",
    "for i in range(10):\n",
    "    env.render()\n",
    "    env.step(actions) # tak\"e a random action\n"
   ]
  },
  {
   "cell_type": "code",
   "execution_count": 10,
   "metadata": {},
   "outputs": [
    {
     "name": "stdout",
     "output_type": "stream",
     "text": [
      "action 1\n",
      "action 2\n",
      "action 1\n",
      "action 2\n",
      "action 1\n",
      "action 2\n",
      "action 1\n",
      "action 2\n",
      "action 1\n",
      "action 2\n"
     ]
    }
   ],
   "source": [
    "action1 = -1. * np.ones(env.action_space.shape)\n",
    "action2 = 1.0 * np.ones(env.action_space.shape)\n",
    "for i in range(200):\n",
    "    env.render()\n",
    "    if (i % 40 == 0):\n",
    "        print(\"action 1\")\n",
    "        actions = action1\n",
    "    elif (i % 40 == 20) :\n",
    "        print(\"action 2\")\n",
    "        actions = action2\n",
    "    env.step(actions) # tak\"e a random action"
   ]
  },
  {
   "cell_type": "code",
   "execution_count": 11,
   "metadata": {},
   "outputs": [
    {
     "name": "stdout",
     "output_type": "stream",
     "text": [
      "0.01 1.0\n"
     ]
    }
   ],
   "source": [
    "env.reset()"
   ]
  },
  {
   "cell_type": "code",
   "execution_count": null,
   "metadata": {},
   "outputs": [],
   "source": [
    "for i in range(10):\n",
    "    print ((i/10) % 2) "
   ]
  },
  {
   "cell_type": "code",
   "execution_count": null,
   "metadata": {},
   "outputs": [],
   "source": [
    "for i in range(20):\n",
    "    print (int(i/10))"
   ]
  },
  {
   "cell_type": "code",
   "execution_count": null,
   "metadata": {},
   "outputs": [],
   "source": []
  }
 ],
 "metadata": {
  "kernelspec": {
   "display_name": "Python 3",
   "language": "python",
   "name": "python3"
  },
  "language_info": {
   "codemirror_mode": {
    "name": "ipython",
    "version": 3
   },
   "file_extension": ".py",
   "mimetype": "text/x-python",
   "name": "python",
   "nbconvert_exporter": "python",
   "pygments_lexer": "ipython3",
   "version": "3.5.2"
  }
 },
 "nbformat": 4,
 "nbformat_minor": 2
}
