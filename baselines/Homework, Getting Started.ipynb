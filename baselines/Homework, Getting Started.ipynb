{
 "cells": [
  {
   "cell_type": "markdown",
   "metadata": {},
   "source": [
    "# Simulation of a quadruped Robot\n",
    "\n",
    "\n",
    "Using the simulator the goal of this challenge is to come up with an Agent for controlling a Quadrupedal Robot on a flat environement. The best solution will be the solution that goes as far as possible given a number of Timesteps\n",
    "\n",
    "## Using the Environment\n",
    "\n",
    "You are provided with an environment that uses the [OpenAI Gym Interface](https://gym.openai.com/). \n",
    "\n",
    "Once initialized, you can interact with the environment using the step function that takes a set of actions ( a numpy array of size 12 between -1.0 and 1.0 that corresponds to target angles for each joints. ) \n",
    "The order of the joint angles is as follow [knee, hip, shoulder] for each of the legs in order [Front Left, Rear Right, Front Right, Rear Left]\n"
   ]
  },
  {
   "cell_type": "code",
   "execution_count": 3,
   "metadata": {},
   "outputs": [],
   "source": [
    "import aida_env.aida_gym_env as e\n",
    "import pybullet as p\n",
    "import numpy as np\n"
   ]
  },
  {
   "cell_type": "code",
   "execution_count": 9,
   "metadata": {},
   "outputs": [
    {
     "name": "stdout",
     "output_type": "stream",
     "text": [
      "urdf_root=/home/clement/.virtualenvs/env3/lib/python3.5/site-packages/pybullet_data\n",
      "0.01 1.0\n",
      "\u001b[33mWARN: gym.spaces.Box autodetected dtype as <class 'numpy.float32'>. Please provide explicit dtype.\u001b[0m\n",
      "\u001b[33mWARN: gym.spaces.Box autodetected dtype as <class 'numpy.float32'>. Please provide explicit dtype.\u001b[0m\n"
     ]
    }
   ],
   "source": [
    "env = e.AidaBulletEnv(render=True, on_rack=True)  #  use on_rack to remove gravity\n"
   ]
  },
  {
   "cell_type": "code",
   "execution_count": 3,
   "metadata": {},
   "outputs": [
    {
     "name": "stdout",
     "output_type": "stream",
     "text": [
      "action 1\n",
      "action 2\n",
      "action 1\n",
      "action 2\n",
      "action 1\n"
     ]
    }
   ],
   "source": [
    "# Example of moving between the 2 opposites for the legs. \n",
    "action1 = -1. * np.ones(env.action_space.shape)\n",
    "action2 = 1.0 * np.ones(env.action_space.shape)\n",
    "for i in range(200):\n",
    "    env.render()\n",
    "    if (i % 80 == 0):\n",
    "        print(\"action 1\")\n",
    "        actions = action1\n",
    "    elif (i % 80 == 40) :\n",
    "        print(\"action 2\")\n",
    "        actions = action2\n",
    "    env.step(actions) # take a random action"
   ]
  },
  {
   "cell_type": "code",
   "execution_count": null,
   "metadata": {},
   "outputs": [],
   "source": [
    "# Each joint moving one by one. \n",
    "class Agent():\n",
    "    def get_actions(self, joint, v):\n",
    "        actions = np.zeros(12)\n",
    "        actions[joint] = v\n",
    "        return actions\n",
    "\n",
    "agent = Agent()\n",
    "\n",
    "for i in range(200):\n",
    "     env.step(np.zeros(12))  # init\n",
    "for i in range(1200):\n",
    "    joint = int(i / 100) # go through each joint one by one\n",
    "    angle = (int(i / 50) % 2 - 1.0) # alternate between max and min angle for each joint. \n",
    "    env.render()\n",
    "    env.step(agent.get_actions(joint, angle)) # take a random actio\n"
   ]
  },
  {
   "cell_type": "markdown",
   "metadata": {},
   "source": [
    "# Writing an Agent\n",
    "\n",
    "The goal of the challenge is to write an Agent that can move the robot"
   ]
  },
  {
   "cell_type": "code",
   "execution_count": 1,
   "metadata": {},
   "outputs": [
    {
     "ename": "NameError",
     "evalue": "name 'p' is not defined",
     "output_type": "error",
     "traceback": [
      "\u001b[0;31m---------------------------------------------------------------------------\u001b[0m",
      "\u001b[0;31mNameError\u001b[0m                                 Traceback (most recent call last)",
      "\u001b[0;32m<ipython-input-1-066bd647167d>\u001b[0m in \u001b[0;36m<module>\u001b[0;34m()\u001b[0m\n\u001b[1;32m      1\u001b[0m \u001b[0;31m# Let's create a test environment\u001b[0m\u001b[0;34m\u001b[0m\u001b[0;34m\u001b[0m\u001b[0m\n\u001b[0;32m----> 2\u001b[0;31m \u001b[0mp\u001b[0m\u001b[0;34m.\u001b[0m\u001b[0mdisconnect\u001b[0m\u001b[0;34m(\u001b[0m\u001b[0;34m)\u001b[0m\u001b[0;34m\u001b[0m\u001b[0m\n\u001b[0m\u001b[1;32m      3\u001b[0m \u001b[0menv\u001b[0m \u001b[0;34m=\u001b[0m \u001b[0me\u001b[0m\u001b[0;34m.\u001b[0m\u001b[0mAidaBulletEnv\u001b[0m\u001b[0;34m(\u001b[0m\u001b[0mrender\u001b[0m\u001b[0;34m=\u001b[0m\u001b[0;32mTrue\u001b[0m\u001b[0;34m,\u001b[0m \u001b[0mon_rack\u001b[0m\u001b[0;34m=\u001b[0m\u001b[0;32mFalse\u001b[0m\u001b[0;34m)\u001b[0m  \u001b[0;31m#  use on_rack to remove gravity\u001b[0m\u001b[0;34m\u001b[0m\u001b[0m\n",
      "\u001b[0;31mNameError\u001b[0m: name 'p' is not defined"
     ]
    }
   ],
   "source": [
    "# Let's create a test environment\n",
    "p.disconnect()\n"
   ]
  },
  {
   "cell_type": "code",
   "execution_count": 4,
   "metadata": {},
   "outputs": [
    {
     "name": "stdout",
     "output_type": "stream",
     "text": [
      "urdf_root=/home/clement/.virtualenvs/env3/lib/python3.5/site-packages/pybullet_data\n",
      "0.01 1.0\n",
      "\u001b[33mWARN: gym.spaces.Box autodetected dtype as <class 'numpy.float32'>. Please provide explicit dtype.\u001b[0m\n",
      "\u001b[33mWARN: gym.spaces.Box autodetected dtype as <class 'numpy.float32'>. Please provide explicit dtype.\u001b[0m\n"
     ]
    }
   ],
   "source": [
    "env = e.AidaBulletEnv(render=True, on_rack=False)  #  use on_rack to remove gravity\n"
   ]
  },
  {
   "cell_type": "code",
   "execution_count": 5,
   "metadata": {},
   "outputs": [
    {
     "name": "stdout",
     "output_type": "stream",
     "text": [
      "action 1\n",
      "action 2\n",
      "action 1\n",
      "action 2\n",
      "action 1\n"
     ]
    }
   ],
   "source": [
    "# A small baseline example.\n",
    "class Agent():\n",
    "    def get_actions(self, joint, v):\n",
    "        actions = np.zeros(12)\n",
    "        actions[joint] = v\n",
    "        return actions\n",
    "\n",
    "agent = Agent()\n",
    "\n",
    "for i in range(200):\n",
    "     env.step(-0.5 * np.ones(12))  # a good value to have the robot start on its legs\n",
    "\n",
    "        \n",
    "action1 = np.array([-0.7 for i in range(6)] + [-0.4 for i in range(6)])\n",
    "action1 = np.array([-0.4 for i in range(6)] + [-0.7 for i in range(6)])\n",
    "for i in range(200):\n",
    "    env.render()\n",
    "    if (i % 80 == 0):\n",
    "        print(\"action 1\")\n",
    "        actions = action1\n",
    "    elif (i % 80 == 40) :\n",
    "        print(\"action 2\")\n",
    "        actions = action2\n",
    "    env.step(actions) # take a random action"
   ]
  },
  {
   "cell_type": "code",
   "execution_count": null,
   "metadata": {},
   "outputs": [],
   "source": []
  }
 ],
 "metadata": {
  "kernelspec": {
   "display_name": "Python 3",
   "language": "python",
   "name": "python3"
  },
  "language_info": {
   "codemirror_mode": {
    "name": "ipython",
    "version": 3
   },
   "file_extension": ".py",
   "mimetype": "text/x-python",
   "name": "python",
   "nbconvert_exporter": "python",
   "pygments_lexer": "ipython3",
   "version": "3.5.2"
  }
 },
 "nbformat": 4,
 "nbformat_minor": 2
}
